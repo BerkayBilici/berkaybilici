{
  "nbformat": 4,
  "nbformat_minor": 0,
  "metadata": {
    "colab": {
      "provenance": [],
      "authorship_tag": "ABX9TyPGrgxJB3WkR6TYuKwQyx+U",
      "include_colab_link": true
    },
    "kernelspec": {
      "name": "python3",
      "display_name": "Python 3"
    },
    "language_info": {
      "name": "python"
    }
  },
  "cells": [
    {
      "cell_type": "markdown",
      "metadata": {
        "id": "view-in-github",
        "colab_type": "text"
      },
      "source": [
        "<a href=\"https://colab.research.google.com/github/BerkayBilici/berkaybilici/blob/main/make_clean.ipynb\" target=\"_parent\"><img src=\"https://colab.research.google.com/assets/colab-badge.svg\" alt=\"Open In Colab\"/></a>"
      ]
    },
    {
      "cell_type": "markdown",
      "source": [
        "### ABOUT CLEAN DATA\n",
        "I removed irrelevant columns like Movies, Screenshots, etc., to simplify the dataset.\n",
        "I also combined Positive and Negative ratings into a new Rating column (positive / total). Moreover, I dropped games that had less than 200 total ratings or were priced above $100.\n",
        "\n",
        "The result is a cleaner and more focused dataset saved as clean_steam.csv.\n",
        "\n"
      ],
      "metadata": {
        "id": "M1EXbDOqf_8H"
      }
    },
    {
      "cell_type": "code",
      "source": [
        "import pandas as pd\n",
        "import os\n",
        "from google.colab import drive\n",
        "\n",
        "# Connect to Google Drive\n",
        "drive.mount('/content/drive')\n",
        "\n",
        "data_path = \"/content/drive/MyDrive/dsa210/\"\n",
        "fname = \"steam.csv\"\n",
        "file_path = os.path.join(data_path, fname)\n",
        "\n",
        "# read the data\n",
        "df = pd.read_csv(file_path)\n",
        "\n",
        "# take only nececary columns\n",
        "selected_cols = [\n",
        "    'AppID', 'Name', 'Release date', 'Price', 'Positive', 'Negative', 'Categories', 'Genres', 'Tags']\n",
        "df_clean = df[selected_cols].copy()\n",
        "\n",
        "# drop missing data\n",
        "df_clean.dropna(subset=['Price', 'Positive', 'Negative'], inplace=True)\n",
        "\n",
        "# calculate and create a flag of rating\n",
        "df_clean['Rating'] = df_clean['Positive'] / (df_clean['Positive'] + df_clean['Negative'])\n",
        "\n",
        "# ı droped the games which are more expensive than 100$ because they are all outliers.\n",
        "df_clean = df_clean[df_clean['Price'] <= 100]\n",
        "\n",
        "# I also droped the games which has less then 200 total rating.\n",
        "df_clean = df_clean[(df_clean['Positive'] + df_clean['Negative']) >= 200]\n",
        "\n",
        "# the results are now clean steam.\n",
        "output_path = os.path.join(data_path, \"clean_steam.csv\")\n",
        "df_clean.to_csv(output_path, index=False)\n"
      ],
      "metadata": {
        "colab": {
          "base_uri": "https://localhost:8080/"
        },
        "id": "jAHd-5Hgb4Kw",
        "outputId": "7a1664de-8268-4ccb-8a29-80ea59390254"
      },
      "execution_count": 1,
      "outputs": [
        {
          "output_type": "stream",
          "name": "stdout",
          "text": [
            "Mounted at /content/drive\n"
          ]
        },
        {
          "output_type": "stream",
          "name": "stderr",
          "text": [
            "<ipython-input-1-a17e653d4f29>:14: DtypeWarning: Columns (3,36) have mixed types. Specify dtype option on import or set low_memory=False.\n",
            "  df = pd.read_csv(file_path)\n"
          ]
        }
      ]
    }
  ]
}